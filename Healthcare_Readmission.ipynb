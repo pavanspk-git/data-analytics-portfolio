{
 "cells": [
  {
   "cell_type": "markdown",
   "id": "34368c85",
   "metadata": {},
   "source": [
    "\n",
    "# 🏥 Project 1 — Healthcare: Predicting 30-Day Readmission\n",
    "\n",
    "**Goal:** Predict whether a patient will be readmitted within 30 days of discharge using synthetic (safe) data.  \n",
    "**Pipeline:** Collect → Clean → Explore → Visualize → Model → Evaluate → Interpret.\n",
    "\n",
    "> Run cells top-to-bottom. Works in Google Colab or locally after `pip install pandas scikit-learn matplotlib`.\n"
   ]
  },
  {
   "cell_type": "code",
   "execution_count": null,
   "id": "975b50e0",
   "metadata": {},
   "outputs": [],
   "source": [
    "\n",
    "# 1) Imports\n",
    "import numpy as np\n",
    "import pandas as pd\n",
    "import matplotlib.pyplot as plt\n",
    "\n",
    "from sklearn.model_selection import train_test_split\n",
    "from sklearn.linear_model import LogisticRegression\n",
    "from sklearn.metrics import accuracy_score, confusion_matrix, ConfusionMatrixDisplay\n",
    "\n",
    "np.random.seed(42)\n"
   ]
  },
  {
   "cell_type": "code",
   "execution_count": null,
   "id": "d94c979a",
   "metadata": {},
   "outputs": [],
   "source": [
    "\n",
    "# 2) Create a synthetic dataset (N=500) — no real patient data\n",
    "N = 500\n",
    "rng = np.random.default_rng(42)\n",
    "\n",
    "df = pd.DataFrame({\n",
    "    \"patient_id\": np.arange(1, N+1),\n",
    "    \"age\": rng.integers(18, 90, N),\n",
    "    \"prior_admissions\": rng.poisson(1, N),\n",
    "    \"days_in_hospital\": rng.integers(1, 15, N),\n",
    "    \"has_diabetes\": rng.integers(0, 2, N),\n",
    "    \"has_heart_disease\": rng.integers(0, 2, N),\n",
    "    \"has_copd\": rng.integers(0, 2, N),\n",
    "})\n",
    "\n",
    "# Create a realistic probability of readmission (logistic formula)\n",
    "logit = (\n",
    "    -2\n",
    "    + 0.02*(df[\"age\"]-50)\n",
    "    + 0.3*df[\"prior_admissions\"]\n",
    "    + 0.2*(df[\"days_in_hospital\"]-5)\n",
    "    + 0.5*df[\"has_diabetes\"]\n",
    "    + 0.4*df[\"has_heart_disease\"]\n",
    "    + 0.3*df[\"has_copd\"]\n",
    ")\n",
    "prob = 1 / (1 + np.exp(-logit))\n",
    "df[\"readmitted_30d\"] = (rng.random(N) < prob).astype(int)\n",
    "\n",
    "# Save a copy (optional)\n",
    "df.to_csv(\"patients_readmission_synthetic.csv\", index=False)\n",
    "\n",
    "# Show first 20 rows\n",
    "df.head(20)\n"
   ]
  },
  {
   "cell_type": "code",
   "execution_count": null,
   "id": "b44fb2ca",
   "metadata": {},
   "outputs": [],
   "source": [
    "\n",
    "# 3) Quick EDA (explore)\n",
    "print(\"Rows, Columns:\", df.shape)\n",
    "print(\"Columns:\", list(df.columns))\n",
    "print(\"\\nReadmission rate:\", round(df[\"readmitted_30d\"].mean(), 3))\n",
    "print(\"\\nNumeric summary:\")\n",
    "display(df.describe())\n"
   ]
  },
  {
   "cell_type": "code",
   "execution_count": null,
   "id": "445fba36",
   "metadata": {},
   "outputs": [],
   "source": [
    "\n",
    "# 4) Visualizations\n",
    "# (A) Age distribution\n",
    "df[\"age\"].hist(bins=20)\n",
    "plt.title(\"Age Distribution\")\n",
    "plt.xlabel(\"Age\"); plt.ylabel(\"Count\"); plt.show()\n",
    "\n",
    "# (B) Prior admissions vs readmission (boxplot)\n",
    "df.boxplot(column=\"prior_admissions\", by=\"readmitted_30d\")\n",
    "plt.title(\"Prior Admissions by Readmission\")\n",
    "plt.suptitle(\"\")\n",
    "plt.xlabel(\"readmitted_30d\"); plt.ylabel(\"prior_admissions\"); plt.show()\n"
   ]
  },
  {
   "cell_type": "code",
   "execution_count": null,
   "id": "cef1bf65",
   "metadata": {},
   "outputs": [],
   "source": [
    "\n",
    "# 5) Train a simple model (Logistic Regression)\n",
    "X = df[[\"age\",\"prior_admissions\",\"days_in_hospital\",\"has_diabetes\",\"has_heart_disease\",\"has_copd\"]]\n",
    "y = df[\"readmitted_30d\"]\n",
    "\n",
    "X_train, X_test, y_train, y_test = train_test_split(X, y, test_size=0.25, random_state=42, stratify=y)\n",
    "\n",
    "model = LogisticRegression(max_iter=500)\n",
    "model.fit(X_train, y_train)\n",
    "\n",
    "y_pred = model.predict(X_test)\n",
    "acc = accuracy_score(y_test, y_pred)\n",
    "print(\"Accuracy:\", round(acc, 3))\n",
    "\n",
    "cm = confusion_matrix(y_test, y_pred)\n",
    "ConfusionMatrixDisplay(cm, display_labels=[\"Not readmitted\",\"Readmitted\"]).plot(values_format='d')\n",
    "plt.title(\"Confusion Matrix (Logistic Regression)\")\n",
    "plt.show()\n"
   ]
  },
  {
   "cell_type": "markdown",
   "id": "fbe7ec8d",
   "metadata": {},
   "source": [
    "\n",
    "## 📝 Insights (ready to copy into GitHub README)\n",
    "- Patients with **more prior admissions** are more likely to be readmitted.\n",
    "- Chronic conditions (**diabetes, heart disease, COPD**) increase risk.\n",
    "- **Longer stays** correlate with higher readmission likelihood.\n",
    "- Logistic Regression is a good baseline; try Random Forest or threshold tuning next.\n"
   ]
  }
 ],
 "metadata": {},
 "nbformat": 4,
 "nbformat_minor": 5
}
